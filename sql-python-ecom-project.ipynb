{
 "cells": [
  {
   "cell_type": "code",
   "execution_count": 15,
   "id": "4c31c9d6-6114-4caf-bc80-7ca32d3b3ac7",
   "metadata": {},
   "outputs": [],
   "source": [
    "import pandas as pd\n",
    "import numpy as np\n",
    "import matplotlib.pyplot as plt\n",
    "import seaborn as sns\n",
    "import mysql.connector\n",
    "\n",
    "db = mysql.connector.connect(\n",
    "    host=\"localhost\",\n",
    "    user=\"root\",\n",
    "    password=\"Sh1v@ng1\",\n",
    "    database=\"ecommerce1\"\n",
    ")\n",
    "\n",
    "# Create cursor\n",
    "cur = db.cursor()\n"
   ]
  },
  {
   "cell_type": "markdown",
   "id": "6b0d13e5-4b13-42b0-8e1d-aa1526c876fa",
   "metadata": {},
   "source": [
    "# List all unique cities where customers are located."
   ]
  },
  {
   "cell_type": "code",
   "execution_count": 5,
   "id": "ce3e50b2-4b4a-43d2-9f5f-fdd44c50e5cc",
   "metadata": {},
   "outputs": [
    {
     "data": {
      "text/html": [
       "<div>\n",
       "<style scoped>\n",
       "    .dataframe tbody tr th:only-of-type {\n",
       "        vertical-align: middle;\n",
       "    }\n",
       "\n",
       "    .dataframe tbody tr th {\n",
       "        vertical-align: top;\n",
       "    }\n",
       "\n",
       "    .dataframe thead th {\n",
       "        text-align: right;\n",
       "    }\n",
       "</style>\n",
       "<table border=\"1\" class=\"dataframe\">\n",
       "  <thead>\n",
       "    <tr style=\"text-align: right;\">\n",
       "      <th></th>\n",
       "      <th>0</th>\n",
       "    </tr>\n",
       "  </thead>\n",
       "  <tbody>\n",
       "    <tr>\n",
       "      <th>0</th>\n",
       "      <td>franca</td>\n",
       "    </tr>\n",
       "    <tr>\n",
       "      <th>1</th>\n",
       "      <td>sao bernardo do campo</td>\n",
       "    </tr>\n",
       "    <tr>\n",
       "      <th>2</th>\n",
       "      <td>sao paulo</td>\n",
       "    </tr>\n",
       "    <tr>\n",
       "      <th>3</th>\n",
       "      <td>mogi das cruzes</td>\n",
       "    </tr>\n",
       "    <tr>\n",
       "      <th>4</th>\n",
       "      <td>campinas</td>\n",
       "    </tr>\n",
       "  </tbody>\n",
       "</table>\n",
       "</div>"
      ],
      "text/plain": [
       "                       0\n",
       "0                 franca\n",
       "1  sao bernardo do campo\n",
       "2              sao paulo\n",
       "3        mogi das cruzes\n",
       "4               campinas"
      ]
     },
     "execution_count": 5,
     "metadata": {},
     "output_type": "execute_result"
    }
   ],
   "source": [
    "# Query\n",
    "query = \"\"\"SELECT DISTINCT customer_city FROM customers\"\"\"\n",
    "cur.execute(query)\n",
    "\n",
    "# Fetch data\n",
    "data = cur.fetchall()\n",
    "\n",
    "df = pd.DataFrame(data)\n",
    "df.head()\n"
   ]
  },
  {
   "cell_type": "markdown",
   "id": "9294eb30-c4b7-4149-ab18-c39fcfc3ef9c",
   "metadata": {},
   "source": [
    "# Count the number of orders placed in 2017."
   ]
  },
  {
   "cell_type": "code",
   "execution_count": 6,
   "id": "3b3c742f-56ee-46e7-8d3f-e03b928981a0",
   "metadata": {},
   "outputs": [
    {
     "data": {
      "text/plain": [
       "('total orders placed in 2017 are', 45101)"
      ]
     },
     "execution_count": 6,
     "metadata": {},
     "output_type": "execute_result"
    }
   ],
   "source": [
    "query = \"\"\" select count(order_id) from orders where year(order_purchase_timestamp) = 2017 \"\"\"\n",
    "\n",
    "cur.execute(query)\n",
    "\n",
    "data = cur.fetchall()\n",
    "\n",
    "\"total orders placed in 2017 are\", data[0][0]"
   ]
  },
  {
   "cell_type": "markdown",
   "id": "e84ce830-5de5-43af-9023-8a2bc6fe48d1",
   "metadata": {},
   "source": [
    "# Find the total sales per category."
   ]
  },
  {
   "cell_type": "code",
   "execution_count": 7,
   "id": "af48014e-6655-4ff2-8932-f7356bbcdfe8",
   "metadata": {},
   "outputs": [
    {
     "data": {
      "text/html": [
       "<div>\n",
       "<style scoped>\n",
       "    .dataframe tbody tr th:only-of-type {\n",
       "        vertical-align: middle;\n",
       "    }\n",
       "\n",
       "    .dataframe tbody tr th {\n",
       "        vertical-align: top;\n",
       "    }\n",
       "\n",
       "    .dataframe thead th {\n",
       "        text-align: right;\n",
       "    }\n",
       "</style>\n",
       "<table border=\"1\" class=\"dataframe\">\n",
       "  <thead>\n",
       "    <tr style=\"text-align: right;\">\n",
       "      <th></th>\n",
       "      <th>Category</th>\n",
       "      <th>Sales</th>\n",
       "    </tr>\n",
       "  </thead>\n",
       "  <tbody>\n",
       "    <tr>\n",
       "      <th>0</th>\n",
       "      <td>PERFUMERY</td>\n",
       "      <td>506738.66</td>\n",
       "    </tr>\n",
       "    <tr>\n",
       "      <th>1</th>\n",
       "      <td>FURNITURE DECORATION</td>\n",
       "      <td>1430176.39</td>\n",
       "    </tr>\n",
       "    <tr>\n",
       "      <th>2</th>\n",
       "      <td>TELEPHONY</td>\n",
       "      <td>486882.05</td>\n",
       "    </tr>\n",
       "    <tr>\n",
       "      <th>3</th>\n",
       "      <td>BED TABLE BATH</td>\n",
       "      <td>1712553.67</td>\n",
       "    </tr>\n",
       "    <tr>\n",
       "      <th>4</th>\n",
       "      <td>AUTOMOTIVE</td>\n",
       "      <td>852294.33</td>\n",
       "    </tr>\n",
       "    <tr>\n",
       "      <th>...</th>\n",
       "      <td>...</td>\n",
       "      <td>...</td>\n",
       "    </tr>\n",
       "    <tr>\n",
       "      <th>69</th>\n",
       "      <td>CDS MUSIC DVDS</td>\n",
       "      <td>1199.43</td>\n",
       "    </tr>\n",
       "    <tr>\n",
       "      <th>70</th>\n",
       "      <td>LA CUISINE</td>\n",
       "      <td>2913.53</td>\n",
       "    </tr>\n",
       "    <tr>\n",
       "      <th>71</th>\n",
       "      <td>FASHION CHILDREN'S CLOTHING</td>\n",
       "      <td>785.67</td>\n",
       "    </tr>\n",
       "    <tr>\n",
       "      <th>72</th>\n",
       "      <td>PC GAMER</td>\n",
       "      <td>2174.43</td>\n",
       "    </tr>\n",
       "    <tr>\n",
       "      <th>73</th>\n",
       "      <td>INSURANCE AND SERVICES</td>\n",
       "      <td>324.51</td>\n",
       "    </tr>\n",
       "  </tbody>\n",
       "</table>\n",
       "<p>74 rows × 2 columns</p>\n",
       "</div>"
      ],
      "text/plain": [
       "                       Category       Sales\n",
       "0                     PERFUMERY   506738.66\n",
       "1          FURNITURE DECORATION  1430176.39\n",
       "2                     TELEPHONY   486882.05\n",
       "3                BED TABLE BATH  1712553.67\n",
       "4                    AUTOMOTIVE   852294.33\n",
       "..                          ...         ...\n",
       "69               CDS MUSIC DVDS     1199.43\n",
       "70                   LA CUISINE     2913.53\n",
       "71  FASHION CHILDREN'S CLOTHING      785.67\n",
       "72                     PC GAMER     2174.43\n",
       "73       INSURANCE AND SERVICES      324.51\n",
       "\n",
       "[74 rows x 2 columns]"
      ]
     },
     "execution_count": 7,
     "metadata": {},
     "output_type": "execute_result"
    }
   ],
   "source": [
    "query = \"\"\" select upper(products.product_category) category, \n",
    "round(sum(payments.payment_value),2) sales\n",
    "from products join order_items \n",
    "on products.product_id = order_items.product_id\n",
    "join payments \n",
    "on payments.order_id = order_items.order_id\n",
    "group by category\n",
    "\"\"\"\n",
    "\n",
    "cur.execute(query)\n",
    "\n",
    "data = cur.fetchall()\n",
    "\n",
    "df = pd.DataFrame(data, columns = [\"Category\", \"Sales\"])\n",
    "df"
   ]
  },
  {
   "cell_type": "markdown",
   "id": "c17fb699-ffc9-44cf-9fa5-cef0568a5b29",
   "metadata": {},
   "source": [
    "# Calculate the percentage of orders that were paid in installments."
   ]
  },
  {
   "cell_type": "code",
   "execution_count": 8,
   "id": "f22e96cf-2942-430c-8c2e-e26f6121d358",
   "metadata": {},
   "outputs": [
    {
     "data": {
      "text/plain": [
       "('the percentage of orders that were paid in installments is',\n",
       " Decimal('99.9981'))"
      ]
     },
     "execution_count": 8,
     "metadata": {},
     "output_type": "execute_result"
    }
   ],
   "source": [
    "query = \"\"\" select ((sum(case when payment_installments >= 1 then 1\n",
    "else 0 end))/count(*))*100 from payments\n",
    "\"\"\"\n",
    "\n",
    "cur.execute(query)\n",
    "\n",
    "data = cur.fetchall()\n",
    "\n",
    "\"the percentage of orders that were paid in installments is\", data[0][0]"
   ]
  },
  {
   "cell_type": "markdown",
   "id": "b1b99a87-44be-4be0-86bc-dcf0c54eb3c8",
   "metadata": {},
   "source": [
    "# Count the number of customers from each state."
   ]
  },
  {
   "cell_type": "code",
   "execution_count": 19,
   "id": "150034fa-f478-483f-b3e0-d878f84ddfb9",
   "metadata": {},
   "outputs": [
    {
     "data": {
      "image/png": "[encoded data removed]",
      "text/plain": [
       "<Figure size 800x300 with 1 Axes>"
      ]
     },
     "metadata": {},
     "output_type": "display_data"
    }
   ],
   "source": [
    "query = \"\"\" select customer_state ,count(customer_id)\n",
    "from customers group by customer_state\n",
    "\"\"\"\n",
    "\n",
    "cur.execute(query)\n",
    "\n",
    "data = cur.fetchall()\n",
    "df = pd.DataFrame(data, columns = [\"state\", \"customer_count\" ])\n",
    "df = df.sort_values(by = \"customer_count\", ascending= False)\n",
    "\n",
    "plt.figure(figsize = (8,3))\n",
    "plt.bar(df[\"state\"], df[\"customer_count\"], color=\"violet\")\n",
    "plt.xticks(rotation = 90)\n",
    "plt.xlabel(\"states\")\n",
    "plt.ylabel(\"customer_count\")\n",
    "plt.title(\"Count of Customers by States\")\n",
    "plt.show()"
   ]
  },
  {
   "cell_type": "markdown",
   "id": "f0f54f6a-e98d-43e3-b9bc-f80729872de1",
   "metadata": {},
   "source": [
    "# Calculate the number of orders per month in 2018."
   ]
  },
  {
   "cell_type": "code",
   "execution_count": 18,
   "id": "f36d5d16-e7ae-48d1-9b04-e23e09c6d0b1",
   "metadata": {},
   "outputs": [
    {
     "data": {
      "image/png": "[encoded data removed]",
      "text/plain": [
       "<Figure size 640x480 with 1 Axes>"
      ]
     },
     "metadata": {},
     "output_type": "display_data"
    }
   ],
   "source": [
    "query = \"\"\" select monthname(order_purchase_timestamp) months, count(order_id) order_count\n",
    "from orders where year(order_purchase_timestamp) = 2018\n",
    "group by months\n",
    "\"\"\"\n",
    "\n",
    "cur.execute(query)\n",
    "\n",
    "data = cur.fetchall()\n",
    "df = pd.DataFrame(data, columns = [\"months\", \"order_count\"])\n",
    "o = [\"January\", \"February\",\"March\",\"April\",\"May\",\"June\",\"July\",\"August\",\"September\",\"October\"]\n",
    "\n",
    "ax = sns.barplot(x = df[\"months\"],y =  df[\"order_count\"], data = df, order = o, hue = \"order_count\")\n",
    "plt.xticks(rotation = 45)\n",
    "ax.bar_label(ax.containers[0])\n",
    "plt.title(\"Count of Orders by Months is 2018\")\n",
    "\n",
    "plt.show()"
   ]
  },
  {
   "cell_type": "markdown",
   "id": "c61fa164-d24c-4ef1-9afc-6d1d1c3349b8",
   "metadata": {},
   "source": [
    "# Find the average number of products per order, grouped by customer city."
   ]
  },
  {
   "cell_type": "code",
   "execution_count": 12,
   "id": "a63eb847-e3e4-4c1d-b6d3-2f4e38d0100b",
   "metadata": {},
   "outputs": [
    {
     "data": {
      "text/html": [
       "<div>\n",
       "<style scoped>\n",
       "    .dataframe tbody tr th:only-of-type {\n",
       "        vertical-align: middle;\n",
       "    }\n",
       "\n",
       "    .dataframe tbody tr th {\n",
       "        vertical-align: top;\n",
       "    }\n",
       "\n",
       "    .dataframe thead th {\n",
       "        text-align: right;\n",
       "    }\n",
       "</style>\n",
       "<table border=\"1\" class=\"dataframe\">\n",
       "  <thead>\n",
       "    <tr style=\"text-align: right;\">\n",
       "      <th></th>\n",
       "      <th>customer city</th>\n",
       "      <th>average products/order</th>\n",
       "    </tr>\n",
       "  </thead>\n",
       "  <tbody>\n",
       "    <tr>\n",
       "      <th>0</th>\n",
       "      <td>padre carvalho</td>\n",
       "      <td>7.00</td>\n",
       "    </tr>\n",
       "    <tr>\n",
       "      <th>1</th>\n",
       "      <td>celso ramos</td>\n",
       "      <td>6.50</td>\n",
       "    </tr>\n",
       "    <tr>\n",
       "      <th>2</th>\n",
       "      <td>datas</td>\n",
       "      <td>6.00</td>\n",
       "    </tr>\n",
       "    <tr>\n",
       "      <th>3</th>\n",
       "      <td>candido godoi</td>\n",
       "      <td>6.00</td>\n",
       "    </tr>\n",
       "    <tr>\n",
       "      <th>4</th>\n",
       "      <td>matias olimpio</td>\n",
       "      <td>5.00</td>\n",
       "    </tr>\n",
       "    <tr>\n",
       "      <th>5</th>\n",
       "      <td>cidelandia</td>\n",
       "      <td>4.00</td>\n",
       "    </tr>\n",
       "    <tr>\n",
       "      <th>6</th>\n",
       "      <td>picarra</td>\n",
       "      <td>4.00</td>\n",
       "    </tr>\n",
       "    <tr>\n",
       "      <th>7</th>\n",
       "      <td>morro de sao paulo</td>\n",
       "      <td>4.00</td>\n",
       "    </tr>\n",
       "    <tr>\n",
       "      <th>8</th>\n",
       "      <td>teixeira soares</td>\n",
       "      <td>4.00</td>\n",
       "    </tr>\n",
       "    <tr>\n",
       "      <th>9</th>\n",
       "      <td>curralinho</td>\n",
       "      <td>4.00</td>\n",
       "    </tr>\n",
       "  </tbody>\n",
       "</table>\n",
       "</div>"
      ],
      "text/plain": [
       "        customer city average products/order\n",
       "0      padre carvalho                   7.00\n",
       "1         celso ramos                   6.50\n",
       "2               datas                   6.00\n",
       "3       candido godoi                   6.00\n",
       "4      matias olimpio                   5.00\n",
       "5          cidelandia                   4.00\n",
       "6             picarra                   4.00\n",
       "7  morro de sao paulo                   4.00\n",
       "8     teixeira soares                   4.00\n",
       "9          curralinho                   4.00"
      ]
     },
     "execution_count": 12,
     "metadata": {},
     "output_type": "execute_result"
    }
   ],
   "source": [
    "query = \"\"\"with count_per_order as \n",
    "(select orders.order_id, orders.customer_id, count(order_items.order_id) as oc\n",
    "from orders join order_items\n",
    "on orders.order_id = order_items.order_id\n",
    "group by orders.order_id, orders.customer_id)\n",
    "\n",
    "select customers.customer_city, round(avg(count_per_order.oc),2) average_orders\n",
    "from customers join count_per_order\n",
    "on customers.customer_id = count_per_order.customer_id\n",
    "group by customers.customer_city order by average_orders desc\n",
    "\"\"\"\n",
    "\n",
    "cur.execute(query)\n",
    "\n",
    "data = cur.fetchall()\n",
    "df = pd.DataFrame(data,columns = [\"customer city\", \"average products/order\"])\n",
    "df.head(10)"
   ]
  },
  {
   "cell_type": "markdown",
   "id": "06944d8c-1bb9-4e39-8f49-37e9aaae347d",
   "metadata": {},
   "source": [
    "# Calculate the percentage of total revenue contributed by each product category."
   ]
  },
  {
   "cell_type": "code",
   "execution_count": 13,
   "id": "878b9a2f-8331-440b-8798-56d2fcca6340",
   "metadata": {},
   "outputs": [
    {
     "data": {
      "text/html": [
       "<div>\n",
       "<style scoped>\n",
       "    .dataframe tbody tr th:only-of-type {\n",
       "        vertical-align: middle;\n",
       "    }\n",
       "\n",
       "    .dataframe tbody tr th {\n",
       "        vertical-align: top;\n",
       "    }\n",
       "\n",
       "    .dataframe thead th {\n",
       "        text-align: right;\n",
       "    }\n",
       "</style>\n",
       "<table border=\"1\" class=\"dataframe\">\n",
       "  <thead>\n",
       "    <tr style=\"text-align: right;\">\n",
       "      <th></th>\n",
       "      <th>Category</th>\n",
       "      <th>percentage distribution</th>\n",
       "    </tr>\n",
       "  </thead>\n",
       "  <tbody>\n",
       "    <tr>\n",
       "      <th>0</th>\n",
       "      <td>BED TABLE BATH</td>\n",
       "      <td>10.70</td>\n",
       "    </tr>\n",
       "    <tr>\n",
       "      <th>1</th>\n",
       "      <td>HEALTH BEAUTY</td>\n",
       "      <td>10.35</td>\n",
       "    </tr>\n",
       "    <tr>\n",
       "      <th>2</th>\n",
       "      <td>COMPUTER ACCESSORIES</td>\n",
       "      <td>9.90</td>\n",
       "    </tr>\n",
       "    <tr>\n",
       "      <th>3</th>\n",
       "      <td>FURNITURE DECORATION</td>\n",
       "      <td>8.93</td>\n",
       "    </tr>\n",
       "    <tr>\n",
       "      <th>4</th>\n",
       "      <td>WATCHES PRESENT</td>\n",
       "      <td>8.93</td>\n",
       "    </tr>\n",
       "  </tbody>\n",
       "</table>\n",
       "</div>"
      ],
      "text/plain": [
       "               Category  percentage distribution\n",
       "0        BED TABLE BATH                    10.70\n",
       "1         HEALTH BEAUTY                    10.35\n",
       "2  COMPUTER ACCESSORIES                     9.90\n",
       "3  FURNITURE DECORATION                     8.93\n",
       "4       WATCHES PRESENT                     8.93"
      ]
     },
     "execution_count": 13,
     "metadata": {},
     "output_type": "execute_result"
    }
   ],
   "source": [
    "query = \"\"\"select upper(products.product_category) category, \n",
    "round((sum(payments.payment_value)/(select sum(payment_value) from payments))*100,2) sales_percentage\n",
    "from products join order_items \n",
    "on products.product_id = order_items.product_id\n",
    "join payments \n",
    "on payments.order_id = order_items.order_id\n",
    "group by category order by sales_percentage desc\"\"\"\n",
    "\n",
    "\n",
    "cur.execute(query)\n",
    "data = cur.fetchall()\n",
    "df = pd.DataFrame(data,columns = [\"Category\", \"percentage distribution\"])\n",
    "df.head()"
   ]
  },
  {
   "cell_type": "markdown",
   "id": "01db866a-4bb5-458b-a0e1-97ab02ee2214",
   "metadata": {},
   "source": [
    "# Identify the correlation between product price and the number of times a product has been purchased."
   ]
  },
  {
   "cell_type": "code",
   "execution_count": 16,
   "id": "b5eabdb6-7b88-4ef1-a634-482772aa3f09",
   "metadata": {},
   "outputs": [
    {
     "name": "stdout",
     "output_type": "stream",
     "text": [
      "the correlation is -0.10631514167157562\n"
     ]
    }
   ],
   "source": [
    "cur = db.cursor()\n",
    "query = \"\"\"select products.product_category, \n",
    "count(order_items.product_id),\n",
    "round(avg(order_items.price),2)\n",
    "from products join order_items\n",
    "on products.product_id = order_items.product_id\n",
    "group by products.product_category\"\"\"\n",
    "\n",
    "cur.execute(query)\n",
    "data = cur.fetchall()\n",
    "df = pd.DataFrame(data,columns = [\"Category\", \"order_count\",\"price\"])\n",
    "\n",
    "arr1 = df[\"order_count\"]\n",
    "arr2 = df[\"price\"]\n",
    "\n",
    "a = np.corrcoef([arr1,arr2])\n",
    "print(\"the correlation is\", a[0][-1])"
   ]
  },
  {
   "cell_type": "markdown",
   "id": "441f641f-b1a6-40d0-a1ab-9894ec24f928",
   "metadata": {},
   "source": [
    "# Calculate the total revenue generated by each seller, and rank them by revenue."
   ]
  },
  {
   "cell_type": "code",
   "execution_count": 22,
   "id": "5cbc26e3-af66-4a09-a232-46c29e9c53a3",
   "metadata": {},
   "outputs": [
    {
     "data": {
      "image/png": "[encoded data removed]",
      "text/plain": [
       "<Figure size 640x480 with 1 Axes>"
      ]
     },
     "metadata": {},
     "output_type": "display_data"
    }
   ],
   "source": [
    "query = \"\"\" select *, dense_rank() over(order by revenue desc) as rn from\n",
    "(select order_items.seller_id, sum(payments.payment_value)\n",
    "revenue from order_items join payments\n",
    "on order_items.order_id = payments.order_id\n",
    "group by order_items.seller_id) as a \"\"\"\n",
    "\n",
    "cur.execute(query)\n",
    "data = cur.fetchall()\n",
    "df = pd.DataFrame(data, columns = [\"seller_id\", \"revenue\", \"rank\"])\n",
    "df = df.head()\n",
    "sns.barplot(x = \"seller_id\", y = \"revenue\", data = df, hue=\"revenue\")\n",
    "plt.xticks(rotation = 90)\n",
    "plt.show()"
   ]
  },
  {
   "cell_type": "code",
   "execution_count": null,
   "id": "69232f73-6a44-40eb-bbeb-22744f6f09ad",
   "metadata": {},
   "outputs": [],
   "source": []
  }
 ],
 "metadata": {
  "kernelspec": {
   "display_name": "Python 3 (ipykernel)",
   "language": "python",
   "name": "python3"
  },
  "language_info": {
   "codemirror_mode": {
    "name": "ipython",
    "version": 3
   },
   "file_extension": ".py",
   "mimetype": "text/x-python",
   "name": "python",
   "nbconvert_exporter": "python",
   "pygments_lexer": "ipython3",
   "version": "3.13.5"
  }
 },
 "nbformat": 4,
 "nbformat_minor": 5
}
